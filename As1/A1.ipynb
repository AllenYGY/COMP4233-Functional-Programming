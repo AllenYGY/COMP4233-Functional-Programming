{
 "cells": [
  {
   "cell_type": "code",
   "execution_count": 10,
   "metadata": {
    "vscode": {
     "languageId": "ocaml"
    }
   },
   "outputs": [
    {
     "data": {
      "text/plain": [
       "val reverse_head : 'a list -> 'a list = <fun>\n"
      ]
     },
     "execution_count": 10,
     "metadata": {},
     "output_type": "execute_result"
    },
    {
     "data": {
      "text/plain": [
       "val reverse_tail : 'a list -> 'a list -> 'a list = <fun>\n"
      ]
     },
     "execution_count": 10,
     "metadata": {},
     "output_type": "execute_result"
    },
    {
     "data": {
      "text/plain": [
       "val lst : int list = [1; 2; 3; 4; 5]\n"
      ]
     },
     "execution_count": 10,
     "metadata": {},
     "output_type": "execute_result"
    },
    {
     "data": {
      "text/plain": [
       "val lst1 : char list = ['a'; 'b'; 'c'; 'd'; 'e']\n"
      ]
     },
     "execution_count": 10,
     "metadata": {},
     "output_type": "execute_result"
    },
    {
     "data": {
      "text/plain": [
       "val reverse : 'a list -> 'a list = <fun>\n"
      ]
     },
     "execution_count": 10,
     "metadata": {},
     "output_type": "execute_result"
    },
    {
     "data": {
      "text/plain": [
       "- : int list = [5; 4; 3; 2; 1]\n"
      ]
     },
     "execution_count": 10,
     "metadata": {},
     "output_type": "execute_result"
    },
    {
     "data": {
      "text/plain": [
       "- : char list = ['e'; 'd'; 'c'; 'b'; 'a']\n"
      ]
     },
     "execution_count": 10,
     "metadata": {},
     "output_type": "execute_result"
    }
   ],
   "source": [
    "let rec reverse_head lst =\n",
    "  match lst with\n",
    "  | [] -> []\n",
    "  | x :: lst -> (reverse_head lst) @ [x];;\n",
    "\n",
    "let rec reverse_tail lst acc  =\n",
    "  match lst with\n",
    "  | [] -> acc\n",
    "  | x :: lst -> reverse_tail lst (x::acc) ;;\n",
    "\n",
    "let lst = [1; 2; 3; 4; 5];;\n",
    "let lst1= ['a'; 'b'; 'c'; 'd'; 'e'];;\n",
    "\n",
    "let reverse lst = reverse_tail lst [];;\n",
    "\n",
    "reverse_head lst;;\n",
    "reverse_head lst1;;"
   ]
  },
  {
   "cell_type": "code",
   "execution_count": 28,
   "metadata": {
    "vscode": {
     "languageId": "ocaml"
    }
   },
   "outputs": [],
   "source": [
    "let () =\n",
    "  Printf.printf \"reverse [] = [%s]\\n\" (String.concat \"; \" (List.map string_of_int (reverse []))); (* Expect [] *)\n",
    "  Printf.printf \"reverse [1] = [%s]\\n\" (String.concat \"; \" (List.map string_of_int (reverse [1]))); (* Expect [1] *)\n",
    "  Printf.printf \"reverse [1; 2; 3] = [%s]\\n\" (String.concat \"; \" (List.map string_of_int (reverse [1; 2; 3]))); (* Expect [3; 2; 1] *)\n",
    "  Printf.printf \"reverse [4; 3; 2; 1] = [%s]\\n\" (String.concat \"; \" (List.map string_of_int (reverse [4; 3; 2; 1]))); (* Expect [1; 2; 3; 4] *)\n",
    "();;"
   ]
  },
  {
   "cell_type": "code",
   "execution_count": 6,
   "metadata": {
    "vscode": {
     "languageId": "ocaml"
    }
   },
   "outputs": [
    {
     "data": {
      "text/plain": [
       "val fun1 : ('a -> 'b -> 'c) -> 'a -> 'b -> 'c = <fun>\n"
      ]
     },
     "execution_count": 6,
     "metadata": {},
     "output_type": "execute_result"
    }
   ],
   "source": [
    "let fun1 f g x =f g x;; "
   ]
  },
  {
   "cell_type": "code",
   "execution_count": 7,
   "metadata": {
    "vscode": {
     "languageId": "ocaml"
    }
   },
   "outputs": [
    {
     "data": {
      "text/plain": [
       "val fun2 : ('a -> 'b) -> ('c -> 'a) -> 'c -> 'b = <fun>\n"
      ]
     },
     "execution_count": 7,
     "metadata": {},
     "output_type": "execute_result"
    }
   ],
   "source": [
    "let fun2 f g x = f (g x);;"
   ]
  },
  {
   "cell_type": "code",
   "execution_count": null,
   "metadata": {
    "vscode": {
     "languageId": "ocaml"
    }
   },
   "outputs": [],
   "source": [
    "(* The type of the function fun1 *)\n",
    "let fun1_type = fun1;;\n",
    "(* fun1 : ('a -> 'b -> 'c) -> 'a -> 'b -> 'c *)\n",
    "\n",
    "(* Explanation:\n",
    "  fun1 takes three arguments:\n",
    "  - f: a function that takes two arguments of types 'a and 'b, and returns a value of type 'c\n",
    "  - g: an argument of type 'a\n",
    "  - x: an argument of type 'b\n",
    "  The function fun1 applies f to g and x, resulting in a value of type 'c.\n",
    "*)"
   ]
  },
  {
   "cell_type": "code",
   "execution_count": 20,
   "metadata": {
    "vscode": {
     "languageId": "ocaml"
    }
   },
   "outputs": [
    {
     "data": {
      "text/plain": [
       "type 'a under = E | S of 'a | P of 'a under * 'a under\n"
      ]
     },
     "execution_count": 20,
     "metadata": {},
     "output_type": "execute_result"
    },
    {
     "data": {
      "text/plain": [
       "val u1 : 'a under = E\n"
      ]
     },
     "execution_count": 20,
     "metadata": {},
     "output_type": "execute_result"
    },
    {
     "data": {
      "text/plain": [
       "val u2 : int under = S 1\n"
      ]
     },
     "execution_count": 20,
     "metadata": {},
     "output_type": "execute_result"
    },
    {
     "data": {
      "text/plain": [
       "val u3 : int under = P (S 1, E)\n"
      ]
     },
     "execution_count": 20,
     "metadata": {},
     "output_type": "execute_result"
    },
    {
     "data": {
      "text/plain": [
       "val u4 : int under = P (S 1, P (S 2, E))\n"
      ]
     },
     "execution_count": 20,
     "metadata": {},
     "output_type": "execute_result"
    },
    {
     "data": {
      "text/plain": [
       "val u5 : int under = P (E, P (S 1, P (P (S 2, E), S 3)))\n"
      ]
     },
     "execution_count": 20,
     "metadata": {},
     "output_type": "execute_result"
    }
   ],
   "source": [
    "type 'a under = E | S of 'a | P of 'a under * 'a under;;\n",
    "let u1 = E;;\n",
    "let u2 = S 1;;\n",
    "let u3 = P (S 1, E);;\n",
    "let u4 = P (S 1, P (S 2, E));;\n",
    "let u5 = P (E, P (S 1, P(P (S 2, E), S 3)));;"
   ]
  },
  {
   "cell_type": "code",
   "execution_count": null,
   "metadata": {
    "vscode": {
     "languageId": "ocaml"
    }
   },
   "outputs": [
    {
     "data": {
      "text/plain": [
       "val unify : 'a under -> 'a list = <fun>\n"
      ]
     },
     "execution_count": 26,
     "metadata": {},
     "output_type": "execute_result"
    },
    {
     "data": {
      "text/plain": [
       "- : 'a list = []\n"
      ]
     },
     "execution_count": 26,
     "metadata": {},
     "output_type": "execute_result"
    },
    {
     "data": {
      "text/plain": [
       "- : int list = [1]\n"
      ]
     },
     "execution_count": 26,
     "metadata": {},
     "output_type": "execute_result"
    },
    {
     "data": {
      "text/plain": [
       "- : int list = [1]\n"
      ]
     },
     "execution_count": 26,
     "metadata": {},
     "output_type": "execute_result"
    },
    {
     "data": {
      "text/plain": [
       "- : int list = [1; 2]\n"
      ]
     },
     "execution_count": 26,
     "metadata": {},
     "output_type": "execute_result"
    },
    {
     "data": {
      "text/plain": [
       "- : int list = [1; 2; 3]\n"
      ]
     },
     "execution_count": 26,
     "metadata": {},
     "output_type": "execute_result"
    }
   ],
   "source": [
    "let rec unify = function\n",
    "  | E -> [] \n",
    "  | S x -> [x]\n",
    "  | P (x, y) -> (unify x) @ (unify y);;\n",
    "\n",
    "unify u1;;\n",
    "unify u2;;\n",
    "unify u3;;\n",
    "unify u4;;\n",
    "unify u5;;\n"
   ]
  }
 ],
 "metadata": {
  "kernelspec": {
   "display_name": "OCaml default",
   "language": "OCaml",
   "name": "ocaml-jupyter"
  },
  "language_info": {
   "codemirror_mode": "text/x-ocaml",
   "file_extension": ".ml",
   "mimetype": "text/x-ocaml",
   "name": "OCaml",
   "nbconverter_exporter": null,
   "pygments_lexer": "OCaml",
   "version": "4.14.0"
  }
 },
 "nbformat": 4,
 "nbformat_minor": 2
}
