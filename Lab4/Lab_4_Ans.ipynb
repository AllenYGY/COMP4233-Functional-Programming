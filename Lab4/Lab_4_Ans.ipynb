{
 "cells": [
  {
   "cell_type": "code",
   "execution_count": null,
   "metadata": {
    "vscode": {
     "languageId": "ocaml"
    }
   },
   "outputs": [],
   "source": [
    "type grade = A|B|C|D|F;;\n",
    "\n",
    "let score_to_grade (s:int) : grade = \n",
    "  if s>=80 then A\n",
    "    else if s>=60 then B\n",
    "  else if s>=40 then C\n",
    "    else if s>=20 then D\n",
    "      else F;;\n",
    "\n",
    "type gd_rcd ={\n",
    "  name : string,\n",
    "  score :int ,\n",
    "  lt_gd : grade;\n",
    "};;\n",
    "\n",
    "type gd_sheet ={\n",
    "    course_code:string,\n",
    "    instructor:string,\n",
    "    content : gd_rcd list;\n",
    "};;\n",
    "\n",
    "let rec grade_check (gd_rcd_list:gd_rcd list) = \n",
    "  match gd_rcd_list with\n",
    "  |[]-> true\n",
    "  |hd::tl -> (hd.lt_gd == score_to_grade hd.score) && grade_check tl;;\n",
    "\n"
   ]
  }
 ],
 "metadata": {
  "kernelspec": {
   "display_name": "OCaml default",
   "language": "OCaml",
   "name": "ocaml-jupyter"
  },
  "language_info": {
   "name": "OCaml"
  }
 },
 "nbformat": 4,
 "nbformat_minor": 2
}
