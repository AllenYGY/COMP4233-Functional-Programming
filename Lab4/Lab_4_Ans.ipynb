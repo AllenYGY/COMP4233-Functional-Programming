{
 "cells": [
  {
   "cell_type": "code",
   "execution_count": 2,
   "metadata": {
    "vscode": {
     "languageId": "ocaml"
    }
   },
   "outputs": [
    {
     "data": {
      "text/plain": [
       "type grade = A | B | C | D | F\n"
      ]
     },
     "execution_count": 2,
     "metadata": {},
     "output_type": "execute_result"
    },
    {
     "data": {
      "text/plain": [
       "val score_to_grade : int -> grade = <fun>\n"
      ]
     },
     "execution_count": 2,
     "metadata": {},
     "output_type": "execute_result"
    },
    {
     "data": {
      "text/plain": [
       "type gd_rcd = { name : string; score : int; lt_gd : grade; }\n"
      ]
     },
     "execution_count": 2,
     "metadata": {},
     "output_type": "execute_result"
    },
    {
     "data": {
      "text/plain": [
       "type gd_sheet = {\n",
       "  course_code : string;\n",
       "  instructor : string;\n",
       "  content : gd_rcd list;\n",
       "}\n"
      ]
     },
     "execution_count": 2,
     "metadata": {},
     "output_type": "execute_result"
    },
    {
     "data": {
      "text/plain": [
       "val grade_check : gd_rcd list -> bool = <fun>\n"
      ]
     },
     "execution_count": 2,
     "metadata": {},
     "output_type": "execute_result"
    },
    {
     "data": {
      "text/plain": [
       "val content_1 : gd_rcd list =\n",
       "  [{name = \"Alice\"; score = 80; lt_gd = A};\n",
       "   {name = \"Bob\"; score = 60; lt_gd = B};\n",
       "   {name = \"Charlie\"; score = 40; lt_gd = C};\n",
       "   {name = \"David\"; score = 20; lt_gd = D};\n",
       "   {name = \"Eve\"; score = 10; lt_gd = F};\n",
       "   {name = \"Frank\"; score = 90; lt_gd = A};\n",
       "   {name = \"Grace\"; score = 70; lt_gd = B};\n",
       "   {name = \"Heidi\"; score = 50; lt_gd = C};\n",
       "   {name = \"Ivan\"; score = 30; lt_gd = D};\n",
       "   {name = \"Judy\"; score = 0; lt_gd = F};\n",
       "   {name = \"Kevin\"; score = 85; lt_gd = A};\n",
       "   {name = \"Lily\"; score = 65; lt_gd = B};\n",
       "   {name = \"Mike\"; score = 45; lt_gd = C};\n",
       "   {name = \"Nancy\"; score = 25; lt_gd = D};\n",
       "   {name = \"Oscar\"; score = 5; lt_gd = F};\n",
       "   {name = \"Peggy\"; score = 95; lt_gd = A};\n",
       "   {name = \"Quincy\"; score = 75; lt_gd = B};\n",
       "   {name = \"Randy\"; score = 55; lt_gd = C};\n",
       "   {name = \"Sandy\"; score = 35; lt_gd = D};\n",
       "   {name = \"Tom\"; score = 15; lt_gd = F};\n",
       "   {name = \"Ursula\"; score = 100; lt_gd = A};\n",
       "   {name = \"Victor\"; score = 78; lt_gd = B};\n",
       "   {name = \"Wendy\"; score = 58; lt_gd = C};\n",
       "   {name = \"Xavier\"; score = 38; lt_gd = D};\n",
       "   {name = \"Yvonne\"; score = 18; lt_gd = F};\n",
       "   {name = \"Zack\"; score = 8; lt_gd = F};\n",
       "   {name = \"Amy\"; score = 92; lt_gd = A}]\n"
      ]
     },
     "execution_count": 2,
     "metadata": {},
     "output_type": "execute_result"
    },
    {
     "data": {
      "text/plain": [
       "val gd_sheet_1 : gd_sheet =\n",
       "  {course_code = \"CS101\"; instructor = \"John\";\n",
       "   content =\n",
       "    [{name = \"Alice\"; score = 80; lt_gd = A};\n",
       "     {name = \"Bob\"; score = 60; lt_gd = B};\n",
       "     {name = \"Charlie\"; score = 40; lt_gd = C};\n",
       "     {name = \"David\"; score = 20; lt_gd = D};\n",
       "     {name = \"Eve\"; score = 10; lt_gd = F};\n",
       "     {name = \"Frank\"; score = 90; lt_gd = A};\n",
       "     {name = \"Grace\"; score = 70; lt_gd = B};\n",
       "     {name = \"Heidi\"; score = 50; lt_gd = C};\n",
       "     {name = \"Ivan\"; score = 30; lt_gd = D};\n",
       "     {name = \"Judy\"; score = 0; lt_gd = F};\n",
       "     {name = \"Kevin\"; score = 85; lt_gd = A};\n",
       "     {name = \"Lily\"; score = 65; lt_gd = B};\n",
       "     {name = \"Mike\"; score = 45; lt_gd = C};\n",
       "     {name = \"Nancy\"; score = 25; lt_gd = D};\n",
       "     {name = \"Oscar\"; score = 5; lt_gd = F};\n",
       "     {name = \"Peggy\"; score = 95; lt_gd = A};\n",
       "     {name = \"Quincy\"; score = 75; lt_gd = B};\n",
       "     {name = \"Randy\"; score = 55; lt_gd = C};\n",
       "     {name = \"Sandy\"; score = 35; lt_gd = D};\n",
       "     {name = \"Tom\"; score = 15; lt_gd = F};\n",
       "     {name = \"Ursula\"; score = 100; lt_gd = A};\n",
       "     {name = \"Victor\"; score = 78; lt_gd = B};\n",
       "     {name = \"Wendy\"; score = 58; lt_gd = C};\n",
       "     {name = \"Xavier\"; score = 38; lt_gd = D};\n",
       "     {name = \"Yvonne\"; score = 18; lt_gd = F};\n",
       "     {name = \"Zack\"; score = 8; lt_gd = F};\n",
       "     {name = \"Amy\"; score = 92; lt_gd = A}]}\n"
      ]
     },
     "execution_count": 2,
     "metadata": {},
     "output_type": "execute_result"
    },
    {
     "data": {
      "text/plain": [
       "- : bool = true\n"
      ]
     },
     "execution_count": 2,
     "metadata": {},
     "output_type": "execute_result"
    }
   ],
   "source": [
    "type grade = A|B|C|D|F;;\n",
    "\n",
    "let score_to_grade (s:int) : grade = \n",
    "  if s>=80 then A\n",
    "    else if s>=60 then B\n",
    "  else if s>=40 then C\n",
    "    else if s>=20 then D\n",
    "      else F;;\n",
    "\n",
    "type gd_rcd ={\n",
    "  name : string;\n",
    "  score :int;\n",
    "  lt_gd : grade;\n",
    "};;\n",
    "\n",
    "type gd_sheet ={\n",
    "    course_code:string;\n",
    "    instructor:string;\n",
    "    content : gd_rcd list;\n",
    "};;\n",
    "\n",
    "let rec grade_check (gd_rcd_list:gd_rcd list) = \n",
    "  match gd_rcd_list with\n",
    "  |[]-> true\n",
    "  |[x] -> x.lt_gd == score_to_grade x.score\n",
    "  |hd::tl -> (hd.lt_gd == score_to_grade hd.score) && grade_check tl;;\n",
    "\n",
    "let content_1 = [\n",
    "  {name = \"Alice\"; score = 80; lt_gd = A};\n",
    "  {name = \"Bob\"; score = 60; lt_gd = B};\n",
    "  {name = \"Charlie\"; score = 40; lt_gd = C};\n",
    "  {name = \"David\"; score = 20; lt_gd = D};\n",
    "  {name = \"Eve\"; score = 10; lt_gd = F};\n",
    "  {name = \"Frank\"; score = 90; lt_gd = A};\n",
    "  {name = \"Grace\"; score = 70; lt_gd = B};\n",
    "  {name = \"Heidi\"; score = 50; lt_gd = C};\n",
    "  {name = \"Ivan\"; score = 30; lt_gd = D};\n",
    "  {name = \"Judy\"; score = 0; lt_gd = F};\n",
    "  {name = \"Kevin\"; score = 85; lt_gd = A};\n",
    "  {name = \"Lily\"; score = 65; lt_gd = B};\n",
    "  {name = \"Mike\"; score = 45; lt_gd = C};\n",
    "  {name = \"Nancy\"; score = 25; lt_gd = D};\n",
    "  {name = \"Oscar\"; score = 5; lt_gd = F};\n",
    "  {name = \"Peggy\"; score = 95; lt_gd = A};\n",
    "  {name = \"Quincy\"; score = 75; lt_gd = B};\n",
    "  {name = \"Randy\"; score = 55; lt_gd = C};\n",
    "  {name = \"Sandy\"; score = 35; lt_gd = D};\n",
    "  {name = \"Tom\"; score = 15; lt_gd = F};\n",
    "  {name = \"Ursula\"; score = 100; lt_gd = A};\n",
    "  {name = \"Victor\"; score = 78; lt_gd = B};\n",
    "  {name = \"Wendy\"; score = 58; lt_gd = C};\n",
    "  {name = \"Xavier\"; score = 38; lt_gd = D};\n",
    "  {name = \"Yvonne\"; score = 18; lt_gd = F};\n",
    "  {name = \"Zack\"; score = 8; lt_gd = F};\n",
    "  {name = \"Amy\"; score = 92; lt_gd = A};\n",
    "];;\n",
    "\n",
    "\n",
    "let gd_sheet_1 = {\n",
    "  course_code = \"CS101\";\n",
    "  instructor = \"John\";\n",
    "  content = content_1;\n",
    "};;\n",
    "\n",
    "grade_check gd_sheet_1.content;;"
   ]
  }
 ],
 "metadata": {
  "kernelspec": {
   "display_name": "OCaml default",
   "language": "OCaml",
   "name": "ocaml-jupyter"
  },
  "language_info": {
   "codemirror_mode": "text/x-ocaml",
   "file_extension": ".ml",
   "mimetype": "text/x-ocaml",
   "name": "OCaml",
   "nbconverter_exporter": null,
   "pygments_lexer": "OCaml",
   "version": "4.14.0"
  }
 },
 "nbformat": 4,
 "nbformat_minor": 2
}
