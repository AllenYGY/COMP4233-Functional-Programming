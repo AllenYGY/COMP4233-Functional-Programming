{
 "cells": [
  {
   "cell_type": "code",
   "execution_count": 8,
   "metadata": {
    "vscode": {
     "languageId": "ocaml"
    }
   },
   "outputs": [
    {
     "data": {
      "text/plain": [
       "val map : ('a -> 'b) -> 'a list -> 'b list = <fun>\n"
      ]
     },
     "execution_count": 8,
     "metadata": {},
     "output_type": "execute_result"
    },
    {
     "data": {
      "text/plain": [
       "type grade = A | B | C | D | F\n"
      ]
     },
     "execution_count": 8,
     "metadata": {},
     "output_type": "execute_result"
    },
    {
     "data": {
      "text/plain": [
       "val grade_2_gpa : grade -> float = <fun>\n"
      ]
     },
     "execution_count": 8,
     "metadata": {},
     "output_type": "execute_result"
    },
    {
     "data": {
      "text/plain": [
       "val gpa_list : float list = [4.; 3.; 4.; 1.; 2.; 0.]\n"
      ]
     },
     "execution_count": 8,
     "metadata": {},
     "output_type": "execute_result"
    }
   ],
   "source": [
    "let rec map f lst=\n",
    "  match lst with\n",
    "  | [] -> []\n",
    "  | h::t -> (f h)::(map f t);;\n",
    "\n",
    "type grade = A|B|C|D|F;; \n",
    "let grade_2_gpa g = match g with | A -> 4.0 | B -> 3.0 | C -> 2.0 | D -> 1.0 | F -> 0.0;;\n",
    "let gpa_list = map grade_2_gpa [A;B;A;D;C;F];;"
   ]
  },
  {
   "cell_type": "code",
   "execution_count": 9,
   "metadata": {
    "vscode": {
     "languageId": "ocaml"
    }
   },
   "outputs": [
    {
     "data": {
      "text/plain": [
       "val map2 : ('a -> 'b) -> 'a list -> 'b list = <fun>\n"
      ]
     },
     "execution_count": 9,
     "metadata": {},
     "output_type": "execute_result"
    },
    {
     "data": {
      "text/plain": [
       "val map3 : ('a -> 'b) -> 'a list -> 'b list = <fun>\n"
      ]
     },
     "execution_count": 9,
     "metadata": {},
     "output_type": "execute_result"
    },
    {
     "data": {
      "text/plain": [
       "val map4 : ('a -> 'b) -> 'a list -> 'b list = <fun>\n"
      ]
     },
     "execution_count": 9,
     "metadata": {},
     "output_type": "execute_result"
    },
    {
     "data": {
      "text/plain": [
       "val p : int -> int = <fun>\n"
      ]
     },
     "execution_count": 9,
     "metadata": {},
     "output_type": "execute_result"
    },
    {
     "name": "stdout",
     "output_type": "stream",
     "text": [
      "2\n",
      "1\n"
     ]
    },
    {
     "data": {
      "text/plain": [
       "- : int list = [2; 3]\n"
      ]
     },
     "execution_count": 9,
     "metadata": {},
     "output_type": "execute_result"
    },
    {
     "name": "stdout",
     "output_type": "stream",
     "text": [
      "2\n",
      "1\n"
     ]
    },
    {
     "data": {
      "text/plain": [
       "- : int list = [2; 3]\n"
      ]
     },
     "execution_count": 9,
     "metadata": {},
     "output_type": "execute_result"
    },
    {
     "name": "stdout",
     "output_type": "stream",
     "text": [
      "2\n",
      "1\n"
     ]
    },
    {
     "data": {
      "text/plain": [
       "- : int list = [2; 3]\n"
      ]
     },
     "execution_count": 9,
     "metadata": {},
     "output_type": "execute_result"
    },
    {
     "name": "stdout",
     "output_type": "stream",
     "text": [
      "1\n",
      "2\n"
     ]
    },
    {
     "data": {
      "text/plain": [
       "- : int list = [2; 3]\n"
      ]
     },
     "execution_count": 9,
     "metadata": {},
     "output_type": "execute_result"
    }
   ],
   "source": [
    "let rec map2 f = fun x -> \n",
    "  match x with \n",
    "  | [] -> [] \n",
    "  | h::t -> f h :: map2 f t;;\n",
    "\n",
    "let rec map3 f = function  \n",
    "  | [] -> [] \n",
    "  | h::t -> f h :: map3 f t;;\n",
    "\n",
    "let rec map4 f = function \n",
    "  | [] -> [] \n",
    "  | h::t->let h'= f h in h'::map4 f t;;\n",
    "\n",
    "\n",
    "let p x = print_int x; print_newline(); x + 1;; \n",
    "map p [1;2];; \n",
    "map2 p [1;2];; \n",
    "map3 p [1;2];; \n",
    "map4 p [1;2];;\n"
   ]
  },
  {
   "cell_type": "code",
   "execution_count": null,
   "metadata": {
    "vscode": {
     "languageId": "ocaml"
    }
   },
   "outputs": [],
   "source": [
    "let rec filter p = function\n",
    "  | [] -> [] \n",
    "  | h :: t -> if p h then h :: filter p t\n",
    "              else filter p t;;\n",
    "\n",
    "let even n = n mod 2 = 0;; \n",
    "let odd n = not (n mod 2 = 0);; \n",
    "let evens = filter even [1;2;3;4];;\n",
    "let odds = filter odd [1;2;3;4];;\n"
   ]
  }
 ],
 "metadata": {
  "kernelspec": {
   "display_name": "OCaml default",
   "language": "OCaml",
   "name": "ocaml-jupyter"
  },
  "language_info": {
   "codemirror_mode": "text/x-ocaml",
   "file_extension": ".ml",
   "mimetype": "text/x-ocaml",
   "name": "OCaml",
   "nbconverter_exporter": null,
   "pygments_lexer": "OCaml",
   "version": "4.14.0"
  }
 },
 "nbformat": 4,
 "nbformat_minor": 2
}
