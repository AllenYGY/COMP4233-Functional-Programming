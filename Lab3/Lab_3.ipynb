{
 "cells": [
  {
   "cell_type": "code",
   "execution_count": 2,
   "metadata": {
    "vscode": {
     "languageId": "ocaml"
    }
   },
   "outputs": [
    {
     "data": {
      "text/plain": [
       "val sub : int -> int -> int = <fun>\n"
      ]
     },
     "execution_count": 2,
     "metadata": {},
     "output_type": "execute_result"
    },
    {
     "data": {
      "text/plain": [
       "- : int = 5\n"
      ]
     },
     "execution_count": 2,
     "metadata": {},
     "output_type": "execute_result"
    }
   ],
   "source": [
    "let rec sub a b=\n",
    "  if b = 0 then a \n",
    "  else (sub (pred(a)) (pred b));;\n",
    "\n",
    "sub 10 5;;\n",
    "\n"
   ]
  },
  {
   "cell_type": "code",
   "execution_count": null,
   "metadata": {
    "vscode": {
     "languageId": "ocaml"
    }
   },
   "outputs": [],
   "source": [
    "open OUnit2\n",
    "open Lab_3_Xor \n",
    "\n",
    "let tests = \"test suite for Xor\" >:::[\n",
    "  \"A is True, B is True, A Xor B is False\" >:: ( fun _ -> assert_equal false (  true &+ true)); \n",
    "  \"A is True, B is False, A Xor B is True\" >:: ( fun _ -> assert_equal true (  true &+ false)); \n",
    "  \"A is False, B is True, A Xor B is True\" >:: (fun _ -> assert_equal true (  false &+ true));\n",
    "  \"A is False, B is False, A Xor B is False\" >:: (fun _ -> assert_equal false ( false  &+ false));\n",
    "]\n",
    "\n",
    "let _ = run_test_tt_main tests"
   ]
  },
  {
   "cell_type": "code",
   "execution_count": 7,
   "metadata": {
    "vscode": {
     "languageId": "ocaml"
    }
   },
   "outputs": [
    {
     "data": {
      "text/plain": [
       "val fib_fast : int -> int = <fun>\n"
      ]
     },
     "execution_count": 7,
     "metadata": {},
     "output_type": "execute_result"
    },
    {
     "data": {
      "text/plain": [
       "- : int = 1\n"
      ]
     },
     "execution_count": 7,
     "metadata": {},
     "output_type": "execute_result"
    },
    {
     "data": {
      "text/plain": [
       "- : int = 377\n"
      ]
     },
     "execution_count": 7,
     "metadata": {},
     "output_type": "execute_result"
    }
   ],
   "source": [
    "let fib_fast n =\n",
    "  let arr = Array.make (n + 1) 1 in\n",
    "  for i = 2 to n do\n",
    "    arr.(i) <- arr.(i-1) + arr.(i-2);\n",
    "  done;\n",
    "  arr.(n);;\n",
    "\n",
    "fib_fast 1;;\n",
    "fib_fast 13;;"
   ]
  },
  {
   "cell_type": "code",
   "execution_count": null,
   "metadata": {
    "vscode": {
     "languageId": "ocaml"
    }
   },
   "outputs": [],
   "source": []
  }
 ],
 "metadata": {
  "kernelspec": {
   "display_name": "OCaml default",
   "language": "OCaml",
   "name": "ocaml-jupyter"
  },
  "language_info": {
   "codemirror_mode": "text/x-ocaml",
   "file_extension": ".ml",
   "mimetype": "text/x-ocaml",
   "name": "OCaml",
   "nbconverter_exporter": null,
   "pygments_lexer": "OCaml",
   "version": "4.14.0"
  }
 },
 "nbformat": 4,
 "nbformat_minor": 2
}
