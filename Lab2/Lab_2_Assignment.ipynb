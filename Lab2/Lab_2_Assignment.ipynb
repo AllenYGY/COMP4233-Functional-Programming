{
 "cells": [
  {
   "cell_type": "code",
   "execution_count": 15,
   "metadata": {
    "vscode": {
     "languageId": "ocaml"
    }
   },
   "outputs": [
    {
     "name": "stdout",
     "output_type": "stream",
     "text": [
      "val m : int = -16348920000\n"
     ]
    },
    {
     "data": {
      "text/plain": [
       "val str : string = \"-16348920000\"\n"
      ]
     },
     "execution_count": 15,
     "metadata": {},
     "output_type": "execute_result"
    },
    {
     "name": "stdout",
     "output_type": "stream",
     "text": [
      "1\n",
      "3\n",
      "4\n",
      "2\n",
      "0\n",
      "0\n",
      "0\n",
      "0\n"
     ]
    },
    {
     "data": {
      "text/plain": [
       "- : unit = ()\n"
      ]
     },
     "execution_count": 15,
     "metadata": {},
     "output_type": "execute_result"
    }
   ],
   "source": [
    "#use \"Lab_2_Exercise.ml\";;\n",
    "\n",
    "(* let m = 2;; *)\n",
    "\n",
    "let str =string_of_int m;;\n",
    "for i= 0 to String.length(str)-1 do( \n",
    "   if  (int_of_char (str.[i]) - int_of_char '0') < 5 && (int_of_char (str.[i]) - int_of_char '0') >=0 \n",
    "    then ( print_char (str.[i]);print_newline ()); \n",
    "   ) \n",
    "\n",
    "done;;\n"
   ]
  }
 ],
 "metadata": {
  "kernelspec": {
   "display_name": "OCaml default",
   "language": "OCaml",
   "name": "ocaml-jupyter"
  },
  "language_info": {
   "codemirror_mode": "text/x-ocaml",
   "file_extension": ".ml",
   "mimetype": "text/x-ocaml",
   "name": "OCaml",
   "nbconverter_exporter": null,
   "pygments_lexer": "OCaml",
   "version": "4.14.2"
  }
 },
 "nbformat": 4,
 "nbformat_minor": 2
}
